{
  "nbformat": 4,
  "nbformat_minor": 0,
  "metadata": {
    "colab": {
      "provenance": []
    },
    "kernelspec": {
      "name": "python3",
      "display_name": "Python 3"
    },
    "language_info": {
      "name": "python"
    }
  },
  "cells": [
    {
      "cell_type": "code",
      "execution_count": null,
      "metadata": {
        "id": "uqF4O_7qytJF"
      },
      "outputs": [],
      "source": [
        "import pandas as pd\n",
        "from sklearn.neighbors import KNeighborsRegressor\n",
        "from sklearn.model_selection import train_test_split\n",
        "from sklearn.metrics import mean_squared_error\n",
        "\n",
        "# Call of Duty data\n",
        "data = {\n",
        "    'RANK': [8, 6, 6, 5, 5, 5, 6, 6, 4, 3, 3, 1, 2],\n",
        "    'WEEKS': [80, 79, 78, 77, 76, 75, 74, 73, 72, 71, 70, 69, 68]\n",
        "}\n",
        "\n",
        "# Create a DataFrame\n",
        "df = pd.DataFrame(data)\n",
        "\n",
        "# Define features and target variable\n",
        "X = df[['WEEKS']]  # Features\n",
        "y = df['RANK']  # Target variable\n",
        "\n",
        "# Split the dataset into training and testing sets\n",
        "X_train, X_test, y_train, y_test = train_test_split(X, y, test_size=0.2, random_state=42)\n",
        "\n",
        "# Initialize KNN regressor with 3 neighbors (a common starting point)\n",
        "knn_regressor = KNeighborsRegressor(n_neighbors=3)\n",
        "\n",
        "# Fit the KNN regressor to the training data\n",
        "knn_regressor.fit(X_train, y_train)\n",
        "\n",
        "# Predict the ranks on the testing set\n",
        "y_pred = knn_regressor.predict(X_test)\n",
        "\n",
        "# Calculate the RMSE (Root Mean Squared Error)\n",
        "rmse = mean_squared_error(y_test, y_pred, squared=False)\n",
        "\n",
        "y_pred_round = [ round(elem) for elem in y_pred ]\n",
        "# Display predictions and RMSE\n",
        "print(y_pred_round, rmse)\n"
      ]
    }
  ]
}